{
 "cells": [
  {
   "cell_type": "code",
   "execution_count": 2,
   "id": "02944c11-c34f-43a2-b172-28c291fa5431",
   "metadata": {},
   "outputs": [],
   "source": [
    "from typing import List"
   ]
  },
  {
   "cell_type": "markdown",
   "id": "5f2cdc6b-fed5-4759-a8e7-3e24798f30c6",
   "metadata": {
    "jp-MarkdownHeadingCollapsed": true,
    "tags": []
   },
   "source": [
    "## 2023-12-19 | 661. Image Smoother : <font color='green'>Easy</font> \n",
    "\n",
    "https://leetcode.com/problems/image-smoother/?envType=daily-question&envId=2023-12-19"
   ]
  },
  {
   "cell_type": "code",
   "execution_count": 81,
   "id": "df478f3d-883e-40bb-bafe-772680f29a38",
   "metadata": {},
   "outputs": [
    {
     "name": "stdout",
     "output_type": "stream",
     "text": [
      "True\n",
      "True\n"
     ]
    }
   ],
   "source": [
    "class Solution:\n",
    "    def imageSmoother(self, img: List[List[int]]) -> List[List[int]]:\n",
    "        new_image = []\n",
    "\n",
    "        for row_idx in range(len(img)):\n",
    "            result = []\n",
    "            for col_idx in range(len(img[0])):\n",
    "                center = (row_idx, col_idx)\n",
    "\n",
    "                box_elements = []\n",
    "\n",
    "                for row_box_idx in (row_idx - 1, row_idx, row_idx + 1):\n",
    "                    for col_box_idx in (col_idx - 1, col_idx, col_idx + 1):\n",
    "                        if row_box_idx < 0 or row_box_idx > len(img)-1: continue\n",
    "                        if col_box_idx < 0 or col_box_idx > len(img[0])-1: continue\n",
    "\n",
    "                        box_elements.append(img[row_box_idx][col_box_idx])\n",
    "\n",
    "\n",
    "\n",
    "                result.append(sum(box_elements) // len(box_elements))\n",
    "            new_image.append(result)\n",
    "        \n",
    "        return new_image\n",
    "\n",
    "solution = Solution()\n",
    "\n",
    "img = [[1,1,1],\n",
    "       [1,0,1],\n",
    "       [1,1,1]]\n",
    "\n",
    "print(solution.imageSmoother(img) == [[0,0,0],[0,0,0],[0,0,0]]) \n",
    "\n",
    "img = [[100,200,100],\n",
    "       [200,50,200],\n",
    "       [100,200,100]]\n",
    "\n",
    "print(solution.imageSmoother(img) == [[137,141,137],[141,138,141],[137,141,137]]) "
   ]
  },
  {
   "cell_type": "markdown",
   "id": "997419cf-a032-43f2-a17f-a716f6eb817f",
   "metadata": {
    "jp-MarkdownHeadingCollapsed": true,
    "tags": []
   },
   "source": [
    "## 2023-12-20 | 2706. Buy Two Chocolates : <font color='green'>Easy</font> \n",
    "\n",
    "https://leetcode.com/problems/buy-two-chocolates/?envType=daily-question&envId=2023-12-20"
   ]
  },
  {
   "cell_type": "code",
   "execution_count": 31,
   "id": "4ebb10e5-ea86-472c-8847-3651e3584772",
   "metadata": {},
   "outputs": [
    {
     "name": "stdout",
     "output_type": "stream",
     "text": [
      "True\n",
      "True\n",
      "True\n"
     ]
    }
   ],
   "source": [
    "class Solution:\n",
    "    def buyChoco(self, prices: List[int], money: int) -> int:\n",
    "        first_min = min(prices[0], prices[1])\n",
    "        second_min = max(prices[0], prices[1])\n",
    "        \n",
    "        for i in range(2, len(prices)):\n",
    "            if prices[i] < first_min:\n",
    "                second_min = first_min\n",
    "                first_min = prices[i]\n",
    "            elif prices[i] < second_min:\n",
    "                second_min = prices[i]\n",
    "            \n",
    "            \n",
    "        left = money - (first_min+second_min)\n",
    "        return left if left >= 0 else money\n",
    "        \n",
    "\n",
    "solution = Solution()\n",
    "\n",
    "prices = [1,2,2]\n",
    "money = 3\n",
    "\n",
    "print(solution.buyChoco(prices, money) == 0) \n",
    "\n",
    "prices = [3,2,2]\n",
    "money = 3\n",
    "\n",
    "print(solution.buyChoco(prices, money) == 3) \n",
    "\n",
    "prices = [41,1,28,2,92,97,1,87]\n",
    "money = 68\n",
    "\n",
    "print(solution.buyChoco(prices, money) == 66) "
   ]
  },
  {
   "cell_type": "markdown",
   "id": "30c006ab-8064-4048-87a7-cd17bf76c354",
   "metadata": {
    "jp-MarkdownHeadingCollapsed": true,
    "tags": []
   },
   "source": [
    "## 2023-12-21 | 1637. Widest Vertical Area Between Two Points Containing No Points : <font color='orange'>Medium</font> \n",
    "\n",
    "https://leetcode.com/problems/widest-vertical-area-between-two-points-containing-no-points/?envType=daily-question&envId=2023-12-21"
   ]
  },
  {
   "cell_type": "code",
   "execution_count": 14,
   "id": "840fe78e-f9f0-434b-bfcd-748c8656763c",
   "metadata": {},
   "outputs": [
    {
     "name": "stdout",
     "output_type": "stream",
     "text": [
      "True\n",
      "True\n"
     ]
    }
   ],
   "source": [
    "class Solution:\n",
    "    def maxWidthOfVerticalArea(self, points: List[List[int]]) -> int:\n",
    "        only_x = sorted([i[0] for i in points])\n",
    "\n",
    "        max_area = 0\n",
    "\n",
    "        for i in range(len(only_x)-1):\n",
    "            max_area = max(only_x[i+1]-only_x[i] ,max_area)\n",
    "\n",
    "        return max_area\n",
    "        \n",
    "\n",
    "solution = Solution()\n",
    "\n",
    "points = [[8,7],[9,9],[7,4],[9,7]]\n",
    "\n",
    "print(solution.maxWidthOfVerticalArea(points) == 1) \n",
    "\n",
    "points = [[3,1],[9,0],[1,0],[1,4],[5,3],[8,8]]\n",
    "\n",
    "print(solution.maxWidthOfVerticalArea(points) == 3) "
   ]
  },
  {
   "cell_type": "markdown",
   "id": "57456250-2226-488d-b6a3-5d02bfc70458",
   "metadata": {},
   "source": [
    "## 2023-12-22 | 1422. Maximum Score After Splitting a String : <font color='green'>Easy</font> \n",
    "\n",
    "https://leetcode.com/problems/maximum-score-after-splitting-a-string/?envType=daily-question&envId=2023-12-22"
   ]
  },
  {
   "cell_type": "code",
   "execution_count": 48,
   "id": "aa3953d6-ae28-464f-8915-0f76b745da8d",
   "metadata": {},
   "outputs": [
    {
     "name": "stdout",
     "output_type": "stream",
     "text": [
      "True\n"
     ]
    }
   ],
   "source": [
    "class Solution:\n",
    "    def maxScore(self, s: str) -> int:\n",
    "        ones = 0\n",
    "        zeros = 0\n",
    "        best = -1000\n",
    "\n",
    "        for i in range(len(s) - 1):\n",
    "            if s[i] == \"1\":\n",
    "                ones += 1\n",
    "            else:\n",
    "                zeros += 1\n",
    "            \n",
    "            best = max(best, zeros - ones)\n",
    "            \n",
    "        if s[-1] == \"1\":\n",
    "            ones += 1\n",
    "        \n",
    "        return best + ones\n",
    "        \n",
    "\n",
    "solution = Solution()\n",
    "\n",
    "s = \"011101\"\n",
    "\n",
    "print(solution.maxScore(s) == 5) "
   ]
  },
  {
   "cell_type": "markdown",
   "id": "8f8cfc60-9915-4116-9492-ab2fdd853a30",
   "metadata": {},
   "source": [
    "## 2023-12-23 | 1496. Path Crossing : <font color='green'>Easy</font> \n",
    "\n",
    "https://leetcode.com/problems/path-crossing/?envType=daily-question&envId=2023-12-23"
   ]
  },
  {
   "cell_type": "code",
   "execution_count": 40,
   "id": "fd29f67e-a4d4-48b4-b169-ef3bfbb5ffc8",
   "metadata": {},
   "outputs": [
    {
     "name": "stdout",
     "output_type": "stream",
     "text": [
      "True\n",
      "True\n"
     ]
    }
   ],
   "source": [
    "class Solution:\n",
    "    def isPathCrossing(self, path: str) -> bool:\n",
    "        visited_locs = set()\n",
    "        x, y = 0, 0\n",
    "        visited_locs.add((x, y))\n",
    "\n",
    "        for i in path:\n",
    "            if i == 'N': y += 1\n",
    "            elif i == 'S': y -= 1\n",
    "            elif i == 'W': x -= 1\n",
    "            elif i == 'E': x += 1\n",
    "\n",
    "            if (x, y) in visited_locs:\n",
    "                return True\n",
    "\n",
    "            visited_locs.add((x, y))\n",
    "            \n",
    "        return False\n",
    "        \n",
    "\n",
    "solution = Solution()\n",
    "\n",
    "path = \"NES\"\n",
    "\n",
    "print(solution.isPathCrossing(path) == False)\n",
    "\n",
    "path = \"NESWW\"\n",
    "\n",
    "print(solution.isPathCrossing(path) == True) "
   ]
  }
 ],
 "metadata": {
  "kernelspec": {
   "display_name": "Python 3 (ipykernel)",
   "language": "python",
   "name": "python3"
  },
  "language_info": {
   "codemirror_mode": {
    "name": "ipython",
    "version": 3
   },
   "file_extension": ".py",
   "mimetype": "text/x-python",
   "name": "python",
   "nbconvert_exporter": "python",
   "pygments_lexer": "ipython3",
   "version": "3.10.13"
  }
 },
 "nbformat": 4,
 "nbformat_minor": 5
}
