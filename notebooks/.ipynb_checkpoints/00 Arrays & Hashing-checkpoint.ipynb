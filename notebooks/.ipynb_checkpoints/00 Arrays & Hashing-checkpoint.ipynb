{
 "cells": [
  {
   "cell_type": "code",
   "execution_count": 8,
   "id": "df9b9d75-b503-4e32-89bd-be05ab1682ae",
   "metadata": {},
   "outputs": [],
   "source": [
    "from typing import List"
   ]
  },
  {
   "cell_type": "markdown",
   "id": "8d6e8199-869d-405c-8b61-cf20e9e7cd21",
   "metadata": {
    "jp-MarkdownHeadingCollapsed": true,
    "tags": []
   },
   "source": [
    "## 217. Contains Duplicate : <font color='green'>Easy</font>\n",
    "\n",
    "https://leetcode.com/problems/contains-duplicate/"
   ]
  },
  {
   "cell_type": "code",
   "execution_count": 47,
   "id": "10f5ec76-ab31-4c42-856e-f0fc86f4dd3b",
   "metadata": {},
   "outputs": [],
   "source": [
    "class Solution:\n",
    "    def containsDuplicate(self, nums: List[int]) -> bool:\n",
    "        return len(nums) != len(set(nums))\n",
    "    \n",
    "class Solution2:\n",
    "    def containsDuplicate(self, nums: List[int]) -> bool:\n",
    "        hashmap = {}\n",
    "        for i in nums:\n",
    "            val = hashmap.get(i)\n",
    "            if val != None:\n",
    "                return True\n",
    "            else: mapa[i] = i\n",
    "        return False\n",
    "    \n",
    "class Solution3:\n",
    "    def containsDuplicate(self, nums: List[int]) -> bool:\n",
    "        snums = sorted(nums)\n",
    "        prev_i = None\n",
    "        for i in snums:\n",
    "            if i == prev_i:\n",
    "                return True\n",
    "            prev_i = i\n",
    "        return False\n",
    "    \n",
    "class Solution4: # O(n) in memmory and speed. n - elements\n",
    "    def containsDuplicate(self, nums: List[int]) -> bool:\n",
    "        hashset = set()\n",
    "        for i in nums:\n",
    "            if i in hashset: return True\n",
    "            hashset.add(i)\n",
    "        return False"
   ]
  },
  {
   "cell_type": "code",
   "execution_count": 43,
   "id": "60e86c05-0f68-427e-9cd6-990be86a9c0b",
   "metadata": {},
   "outputs": [
    {
     "name": "stdout",
     "output_type": "stream",
     "text": [
      "True\n",
      "False\n"
     ]
    }
   ],
   "source": [
    "solution = Solution()\n",
    "\n",
    "nums = [1, 2, 3, 1]\n",
    "\n",
    "print(solution.containsDuplicate(nums))\n",
    "\n",
    "nums = [1, 2, 3, 4]\n",
    "\n",
    "print(solution.containsDuplicate(nums))"
   ]
  },
  {
   "cell_type": "code",
   "execution_count": 44,
   "id": "4a14937e-5fb0-4112-aec8-c34a96fc2db3",
   "metadata": {},
   "outputs": [
    {
     "name": "stdout",
     "output_type": "stream",
     "text": [
      "True\n",
      "False\n",
      "True\n"
     ]
    }
   ],
   "source": [
    "solution = Solution2()\n",
    "\n",
    "nums = [1, 2, 3, 1]\n",
    "\n",
    "print(solution.containsDuplicate(nums))\n",
    "\n",
    "nums = [1, 2, 3, 4]\n",
    "\n",
    "print(solution.containsDuplicate(nums))\n",
    "\n",
    "nums = [0,4,5,0,3,6]\n",
    "\n",
    "print(solution.containsDuplicate(nums))"
   ]
  },
  {
   "cell_type": "code",
   "execution_count": 45,
   "id": "503948cb-f825-42cd-a8c6-63b99d1e8787",
   "metadata": {},
   "outputs": [
    {
     "name": "stdout",
     "output_type": "stream",
     "text": [
      "True\n",
      "False\n",
      "True\n"
     ]
    }
   ],
   "source": [
    "solution = Solution3()\n",
    "\n",
    "nums = [1, 2, 3, 1]\n",
    "\n",
    "print(solution.containsDuplicate(nums))\n",
    "\n",
    "nums = [1, 2, 3, 4]\n",
    "\n",
    "print(solution.containsDuplicate(nums))\n",
    "\n",
    "nums = [0,4,5,0,3,6]\n",
    "\n",
    "print(solution.containsDuplicate(nums))"
   ]
  },
  {
   "cell_type": "code",
   "execution_count": 48,
   "id": "25d90801-5b02-4a7a-bff8-67279cff4ad5",
   "metadata": {},
   "outputs": [
    {
     "name": "stdout",
     "output_type": "stream",
     "text": [
      "True\n",
      "False\n",
      "True\n"
     ]
    }
   ],
   "source": [
    "solution = Solution4()\n",
    "\n",
    "nums = [1, 2, 3, 1]\n",
    "\n",
    "print(solution.containsDuplicate(nums))\n",
    "\n",
    "nums = [1, 2, 3, 4]\n",
    "\n",
    "print(solution.containsDuplicate(nums))\n",
    "\n",
    "nums = [0,4,5,0,3,6]\n",
    "\n",
    "print(solution.containsDuplicate(nums))"
   ]
  },
  {
   "cell_type": "markdown",
   "id": "220bfa52-b60e-407c-9610-daf776bbd13d",
   "metadata": {
    "jp-MarkdownHeadingCollapsed": true,
    "tags": []
   },
   "source": [
    "## 242. Valid Anagram : <font color='green'>Easy</font>\n",
    "\n",
    "https://leetcode.com/problems/valid-anagram/"
   ]
  },
  {
   "cell_type": "code",
   "execution_count": 90,
   "id": "d32213a4-86d8-4b74-add4-76573537bd65",
   "metadata": {},
   "outputs": [
    {
     "name": "stdout",
     "output_type": "stream",
     "text": [
      "True\n",
      "True\n",
      "True\n",
      "True\n"
     ]
    }
   ],
   "source": [
    "class Solution:\n",
    "    def isAnagram(self, s: str, t: str) -> bool:\n",
    "        slen = len(s)\n",
    "        tlen = len(t)\n",
    "        if slen != tlen: return False\n",
    "    \n",
    "        s = sorted(s)\n",
    "        t = sorted(t)\n",
    "        \n",
    "        for i_s, i_t in zip(s, t):\n",
    "            if i_s != i_t: return False\n",
    "        \n",
    "        return True\n",
    "        \n",
    "class Solution2:\n",
    "    def isAnagram(self, s: str, t: str) -> bool:\n",
    "        slen, tlen = len(s), len(t)\n",
    "        if slen != tlen: return False\n",
    "    \n",
    "        s_hashmap, t_hashmap = {}, {}\n",
    "        \n",
    "        for s_char, t_char in zip(s, t):\n",
    "            s_hashmap[s_char] = 1 + s_hashmap.get(s_char, 0)\n",
    "            t_hashmap[t_char] = 1 + t_hashmap.get(t_char, 0)\n",
    "        \n",
    "        for k, v in s_hashmap.items():\n",
    "            t_h_v = t_hashmap.get(k)\n",
    "            if t_h_v is None or t_h_v != v: return False\n",
    "            \n",
    "        return True\n",
    "    \n",
    "class Solution3:\n",
    "    def isAnagram(self, s: str, t: str) -> bool:\n",
    "        return sorted(s) == sorted(t)\n",
    "    \n",
    "        \n",
    "# solution = Solution()\n",
    "solution = Solution3()\n",
    "\n",
    "s = 'qwer'\n",
    "t = 'rewq'\n",
    "\n",
    "print(solution.isAnagram(s, t) is True)\n",
    "\n",
    "s = 'anagram'\n",
    "t = 'nagaram'\n",
    "\n",
    "print(solution.isAnagram(s, t) is True)\n",
    "\n",
    "s = 'aacc'\n",
    "t = 'ccac'\n",
    "\n",
    "print(solution.isAnagram(s, t) is False)\n",
    "\n",
    "s = 'aa'\n",
    "t = 'bb'\n",
    "\n",
    "print(solution.isAnagram(s, t) is False)"
   ]
  },
  {
   "cell_type": "markdown",
   "id": "121e7abd-c65f-49b0-94a0-a7b53694fa70",
   "metadata": {
    "jp-MarkdownHeadingCollapsed": true,
    "tags": []
   },
   "source": [
    "## 1. Two Sum : <font color='green'>Easy</font>\n",
    "\n",
    "https://leetcode.com/problems/two-sum/"
   ]
  },
  {
   "cell_type": "code",
   "execution_count": 98,
   "id": "a26d8f68-4ebd-4521-a708-72d9d47b2de7",
   "metadata": {},
   "outputs": [
    {
     "name": "stdout",
     "output_type": "stream",
     "text": [
      "True\n",
      "True\n",
      "True\n"
     ]
    }
   ],
   "source": [
    "class Solution:\n",
    "    def twoSum(self, nums: List[int], target: int) -> List[int]:\n",
    "        hashmap = {} # val : index\n",
    "        \n",
    "        for i in range(len(nums)):\n",
    "            complement = target - nums[i]\n",
    "            hash_v = hashmap.get(complement)\n",
    "            \n",
    "            if hash_v is None:\n",
    "                hashmap[nums[i]] = i\n",
    "            else:\n",
    "                return [hash_v, i]\n",
    "        \n",
    "        return [0, 1]\n",
    "                \n",
    "            \n",
    "\n",
    "solution = Solution()\n",
    "\n",
    "nums = [2,7,11,15]\n",
    "target = 9\n",
    "\n",
    "print(solution.twoSum(nums, target) == [0, 1])\n",
    "\n",
    "nums = [3,2,4]\n",
    "target = 6\n",
    "\n",
    "print(solution.twoSum(nums, target) == [1, 2])\n",
    "\n",
    "nums = [3,3]\n",
    "target = 6\n",
    "\n",
    "print(solution.twoSum(nums, target) == [0, 1])"
   ]
  },
  {
   "cell_type": "markdown",
   "id": "55025acf-c30f-4ff1-a2ff-116eb301fa7c",
   "metadata": {
    "jp-MarkdownHeadingCollapsed": true,
    "tags": []
   },
   "source": [
    "## 49. Group Anagrams : <font color='orange'>Medium</font>\n",
    "\n",
    "https://leetcode.com/problems/group-anagrams/"
   ]
  },
  {
   "cell_type": "code",
   "execution_count": 137,
   "id": "f95a24d8-6985-4e6f-9ced-e3537613a8c8",
   "metadata": {},
   "outputs": [
    {
     "name": "stdout",
     "output_type": "stream",
     "text": [
      "True\n",
      "True\n",
      "True\n"
     ]
    }
   ],
   "source": [
    "class Solution:\n",
    "    def groupAnagrams(self, strs: List[str]) -> List[List[str]]:\n",
    "        hashmap = {}\n",
    "        \n",
    "        for i_str in strs:\n",
    "            s_i_str = \"\".join(sorted(i_str))\n",
    "            \n",
    "            if hashmap.get(s_i_str) is None:\n",
    "                hashmap[s_i_str] = [i_str]\n",
    "            else:\n",
    "                hashmap[s_i_str].append(i_str)\n",
    "        \n",
    "        return list(hashmap.values())\n",
    "                \n",
    "                    \n",
    "        \n",
    "solution = Solution()\n",
    "\n",
    "strs = [\"eat\",\"tea\",\"tan\",\"ate\",\"nat\",\"bat\"]\n",
    "\n",
    "print(solution.groupAnagrams(strs) == [['eat', 'tea', 'ate'], ['tan', 'nat'], ['bat']])\n",
    "\n",
    "strs = [\"\"]\n",
    "\n",
    "print(solution.groupAnagrams(strs) == [[\"\"]])\n",
    "\n",
    "strs = [\"a\"]\n",
    "\n",
    "print(solution.groupAnagrams(strs) == [[\"a\"]])"
   ]
  },
  {
   "cell_type": "markdown",
   "id": "bf7ba099-4645-4d5e-ba8d-460b984e97d4",
   "metadata": {},
   "source": [
    "## 347. Top K Frequent Elements : <font color='orange'>Medium</font>\n",
    "\n",
    "https://leetcode.com/problems/top-k-frequent-elements/"
   ]
  },
  {
   "cell_type": "code",
   "execution_count": 230,
   "id": "ec47cb4b-8ec5-44ff-8bd8-ca95914a0e2d",
   "metadata": {},
   "outputs": [
    {
     "name": "stdout",
     "output_type": "stream",
     "text": [
      "False\n"
     ]
    }
   ],
   "source": [
    "class Solution:\n",
    "    def topKFrequent(self, nums: List[int], k: int) -> List[int]:\n",
    "        hashmap = {}\n",
    "        \n",
    "        for i in nums:\n",
    "            if i in hashmap:\n",
    "                hashmap[i] += 1\n",
    "            else:\n",
    "                hashmap[i] = 1\n",
    "        \n",
    "        sorted_dict = sorted(hashmap.items(), key=lambda item: item[1])\n",
    "        \n",
    "        result = []\n",
    "        counter = 0\n",
    "        for i in reversed(sorted_dict):\n",
    "            result.append(i[0])\n",
    "            if counter == k-1: break\n",
    "            counter += 1\n",
    "                \n",
    "        return result\n",
    "                    \n",
    "        \n",
    "solution = Solution()\n",
    "\n",
    "# nums = [1,1,1,2,2,3]\n",
    "# k = 2\n",
    "\n",
    "# print(solution.topKFrequent(nums, k) == [1, 2])\n",
    "\n",
    "# nums = [3,0,1,0]\n",
    "# k = 1\n",
    "\n",
    "# print(solution.topKFrequent(nums, k) == [0])\n",
    "\n",
    "nums = [4,1,-1,2,-1,2,3]\n",
    "k = 2\n",
    "\n",
    "print(solution.topKFrequent(nums, k) == [-1,2])"
   ]
  },
  {
   "cell_type": "code",
   "execution_count": 231,
   "id": "1682301b-cf81-417b-a98f-9a9f0daad0f8",
   "metadata": {},
   "outputs": [
    {
     "data": {
      "text/plain": [
       "[2, -1]"
      ]
     },
     "execution_count": 231,
     "metadata": {},
     "output_type": "execute_result"
    }
   ],
   "source": [
    "solution.topKFrequent(nums, k)"
   ]
  },
  {
   "cell_type": "code",
   "execution_count": 198,
   "id": "f06442eb-13e9-48c0-b8da-6980f9ed4282",
   "metadata": {},
   "outputs": [
    {
     "ename": "SyntaxError",
     "evalue": "'[' was never closed (3009218021.py, line 1)",
     "output_type": "error",
     "traceback": [
      "\u001b[0;36m  Cell \u001b[0;32mIn[198], line 1\u001b[0;36m\u001b[0m\n\u001b[0;31m    nums = [[1,1,1,2,2,3]\u001b[0m\n\u001b[0m           ^\u001b[0m\n\u001b[0;31mSyntaxError\u001b[0m\u001b[0;31m:\u001b[0m '[' was never closed\n"
     ]
    }
   ],
   "source": [
    "nums = [[1,1,1,2,2,3]\n",
    "k = 3\n",
    "\n",
    "solution.topKFrequent(nums, k)"
   ]
  },
  {
   "cell_type": "code",
   "execution_count": 164,
   "id": "eb418a24-d930-474f-9bbb-63b3ab2fdf09",
   "metadata": {},
   "outputs": [
    {
     "data": {
      "text/plain": [
       "[-1, -1, 1, 2, 2, 3, 4]"
      ]
     },
     "execution_count": 164,
     "metadata": {},
     "output_type": "execute_result"
    }
   ],
   "source": [
    "sorted([4,1,-1,2,-1,2,3])"
   ]
  },
  {
   "cell_type": "code",
   "execution_count": 165,
   "id": "f52b1489-fe45-4d59-abad-48fccf9aafc2",
   "metadata": {},
   "outputs": [
    {
     "data": {
      "text/plain": [
       "[-1, 1]"
      ]
     },
     "execution_count": 165,
     "metadata": {},
     "output_type": "execute_result"
    }
   ],
   "source": [
    "solution.topKFrequent(nums, 2)"
   ]
  },
  {
   "cell_type": "code",
   "execution_count": 166,
   "id": "780de7b4-8125-4543-a2bb-e46637d4c290",
   "metadata": {},
   "outputs": [
    {
     "data": {
      "text/plain": [
       "[-1, 1]"
      ]
     },
     "execution_count": 166,
     "metadata": {},
     "output_type": "execute_result"
    }
   ],
   "source": [
    "solution.topKFrequent(nums, k)"
   ]
  },
  {
   "cell_type": "code",
   "execution_count": null,
   "id": "db897de6-9fd5-448a-93e8-dafa4f5ef3a2",
   "metadata": {},
   "outputs": [],
   "source": []
  }
 ],
 "metadata": {
  "kernelspec": {
   "display_name": "Python 3 (ipykernel)",
   "language": "python",
   "name": "python3"
  },
  "language_info": {
   "codemirror_mode": {
    "name": "ipython",
    "version": 3
   },
   "file_extension": ".py",
   "mimetype": "text/x-python",
   "name": "python",
   "nbconvert_exporter": "python",
   "pygments_lexer": "ipython3",
   "version": "3.10.13"
  }
 },
 "nbformat": 4,
 "nbformat_minor": 5
}
