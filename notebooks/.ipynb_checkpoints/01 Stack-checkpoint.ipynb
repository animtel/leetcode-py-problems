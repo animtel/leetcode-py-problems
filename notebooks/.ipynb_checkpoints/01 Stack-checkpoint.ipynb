{
 "cells": [
  {
   "cell_type": "code",
   "execution_count": 47,
   "id": "97de4b4c-6ba3-46ac-b79b-de8e63e8ec86",
   "metadata": {},
   "outputs": [],
   "source": [
    "from typing import List"
   ]
  },
  {
   "cell_type": "markdown",
   "id": "4387c52d-e8b3-4d7f-abb2-5bda5a7ab16d",
   "metadata": {
    "jp-MarkdownHeadingCollapsed": true,
    "tags": []
   },
   "source": [
    "## 20. Valid Parentheses : <font color='green'>Easy</font>\n",
    "\n",
    "https://leetcode.com/problems/valid-parentheses/description/"
   ]
  },
  {
   "cell_type": "code",
   "execution_count": 40,
   "id": "ec36ad1e-28ad-42d7-877c-ad8609ddab85",
   "metadata": {},
   "outputs": [
    {
     "name": "stdout",
     "output_type": "stream",
     "text": [
      "True\n",
      "True\n",
      "True\n",
      "True\n",
      "True\n",
      "True\n"
     ]
    }
   ],
   "source": [
    "class Solution:\n",
    "    def isValid(self, s: str) -> bool:\n",
    "        if len(s) % 2 == 1: return False\n",
    "        stack = []\n",
    "\n",
    "        closed_map = {\n",
    "            \"(\": \")\",\n",
    "            \"[\": \"]\",\n",
    "            \"{\": \"}\",\n",
    "        }\n",
    "\n",
    "        for i in s:\n",
    "            if stack and (i == ')' or i == ']' or i == '}'):\n",
    "                v = stack.pop()\n",
    "                v = closed_map.get(v)\n",
    "                if v != i: return False\n",
    "            else:\n",
    "                stack.append(i)\n",
    "                \n",
    "                \n",
    "        \n",
    "        return not stack\n",
    "    \n",
    "solution = Solution()\n",
    "\n",
    "s = '()'\n",
    "\n",
    "print(solution.isValid(s) == True)\n",
    "\n",
    "s = \"()[]{}\"\n",
    "\n",
    "print(solution.isValid(s) == True)\n",
    "\n",
    "s = \"(]\"\n",
    "\n",
    "print(solution.isValid(s) == False)\n",
    "\n",
    "s = \"((\"\n",
    "\n",
    "print(solution.isValid(s) == False)\n",
    "\n",
    "s = \"){\"\n",
    "\n",
    "print(solution.isValid(s) == False)\n",
    "\n",
    "s = \"))\"\n",
    "\n",
    "print(solution.isValid(s) == False)"
   ]
  },
  {
   "cell_type": "markdown",
   "id": "e5fd69e1-a5a9-4edc-9d18-f8a46614ba70",
   "metadata": {
    "jp-MarkdownHeadingCollapsed": true,
    "tags": []
   },
   "source": [
    "## 155. Min Stack : <font color='orange'>Easy</font>\n",
    "\n",
    "https://leetcode.com/problems/min-stack/"
   ]
  },
  {
   "cell_type": "code",
   "execution_count": 101,
   "id": "ca7caeed-a34c-4e8c-89b6-82c15a96d04e",
   "metadata": {},
   "outputs": [],
   "source": [
    "class MinStack:\n",
    "    def __init__(self):\n",
    "        self.stack = []\n",
    "\n",
    "    def push(self, val: int) -> None:\n",
    "        min_stack_val = self.getMin()\n",
    "        if min_stack_val is None:\n",
    "            min_stack_val = val\n",
    "        self.stack.append((val, min(val, min_stack_val)))\n",
    "\n",
    "    def pop(self) -> None:\n",
    "        self.stack.pop()\n",
    "\n",
    "    def top(self) -> int:\n",
    "        return self.stack[-1][0] if self.stack else None\n",
    "\n",
    "    def getMin(self) -> int:\n",
    "        return self.stack[-1][1] if self.stack else None"
   ]
  },
  {
   "cell_type": "code",
   "execution_count": 102,
   "id": "671405e8-52b7-4138-a8bc-41561f5ebfdc",
   "metadata": {},
   "outputs": [],
   "source": [
    "# [\"MinStack\",\"push\",\"push\",\"push\",\"getMin\",\"pop\",\"top\",\"getMin\"]\n",
    "# [[],        [-2],  [0],   [-3],  [],      [],   [],   []]\n",
    "\n",
    "# [null,null,null,null,-3,null,0,-2]"
   ]
  },
  {
   "cell_type": "code",
   "execution_count": 103,
   "id": "c3455493-aaa0-4184-846d-4756bff68527",
   "metadata": {},
   "outputs": [
    {
     "name": "stdout",
     "output_type": "stream",
     "text": [
      "-3\n",
      "0\n",
      "-2\n"
     ]
    }
   ],
   "source": [
    "obj = MinStack()\n",
    "obj.push(-2)\n",
    "obj.push(0)\n",
    "obj.push(-3)\n",
    "print(obj.getMin())\n",
    "obj.pop()\n",
    "print(obj.top())\n",
    "print(obj.getMin())"
   ]
  },
  {
   "cell_type": "markdown",
   "id": "b38e9ed3-6a26-4886-b46a-4be992019a29",
   "metadata": {
    "jp-MarkdownHeadingCollapsed": true,
    "tags": []
   },
   "source": [
    "## 150. Evaluate Reverse Polish Notation : <font color='orange'>Easy</font>\n",
    "\n",
    "https://leetcode.com/problems/evaluate-reverse-polish-notation/"
   ]
  },
  {
   "cell_type": "code",
   "execution_count": 131,
   "id": "6757d46e-f55e-4b16-b22e-23d84e1ccb85",
   "metadata": {},
   "outputs": [
    {
     "name": "stdout",
     "output_type": "stream",
     "text": [
      "True\n",
      "True\n",
      "True\n"
     ]
    }
   ],
   "source": [
    "class Solution:\n",
    "    def evalRPN(self, tokens: List[str]) -> int:\n",
    "        stack = []\n",
    "\n",
    "        def get_two():\n",
    "            x, y = stack.pop(), stack.pop()\n",
    "            return y, x\n",
    "\n",
    "        for i in tokens:\n",
    "            if i == '+':\n",
    "                x, y = get_two()\n",
    "                stack.append(x + y)\n",
    "                continue\n",
    "            elif i == '-':\n",
    "                x, y = get_two()\n",
    "                stack.append(x - y)\n",
    "                continue\n",
    "            elif i == '*':\n",
    "                x, y = get_two()\n",
    "                stack.append(x * y)\n",
    "                continue\n",
    "            elif i == '/':\n",
    "                x, y = get_two()\n",
    "                stack.append(int(x / y))\n",
    "                continue\n",
    "            else:\n",
    "                stack.append(int(i))\n",
    "        return stack.pop()\n",
    "    \n",
    "solution = Solution()\n",
    "\n",
    "tokens = [\"2\",\"1\",\"+\",\"3\",\"*\"] # ((2 + 1) * 3) = 9\n",
    "\n",
    "print(solution.evalRPN(tokens) == 9) \n",
    "\n",
    "tokens = [\"4\",\"13\",\"5\",\"/\",\"+\"] # (4 + (13 / 5)) = 6\n",
    "\n",
    "print(solution.evalRPN(tokens) == 6)\n",
    "\n",
    "tokens = [\"10\",\"6\",\"9\",\"3\",\"+\",\"-11\",\"*\",\"/\",\"*\",\"17\",\"+\",\"5\",\"+\"] # ((10 * (6 / ((9 + 3) * -11))) + 17) + 5\n",
    "\n",
    "print(solution.evalRPN(tokens) == 22) "
   ]
  },
  {
   "cell_type": "markdown",
   "id": "bf0a3428-f7af-4fd4-bf0d-26934e9ebe19",
   "metadata": {},
   "source": [
    "## 22. Generate Parentheses : <font color='orange'>Easy</font>\n",
    "\n",
    "https://leetcode.com/problems/generate-parentheses/"
   ]
  },
  {
   "cell_type": "code",
   "execution_count": 48,
   "id": "4becac3b-92b7-49c5-8d93-6d245c84b552",
   "metadata": {},
   "outputs": [
    {
     "name": "stdout",
     "output_type": "stream",
     "text": [
      "True\n",
      "True\n"
     ]
    }
   ],
   "source": [
    "class Solution:\n",
    "    def generateParenthesis(self, n: int) -> List[str]:\n",
    "        def func(state, x):\n",
    "            if len(state) == n*2: \n",
    "                return [state]\n",
    "\n",
    "            res = []\n",
    "\n",
    "            if x < n and n*2 - len(state) > x:\n",
    "                res += func(state + '(', x+1)\n",
    "            if x > 0:\n",
    "                res += func(state + ')', x-1)\n",
    "\n",
    "            return res\n",
    "\n",
    "        return func('', 0)\n",
    "    \n",
    "solution = Solution()\n",
    "\n",
    "n = 1\n",
    "\n",
    "print(solution.generateParenthesis(n) == ['()']) \n",
    "\n",
    "n = 3\n",
    "\n",
    "print(solution.generateParenthesis(n) == [\"((()))\",\"(()())\",\"(())()\",\"()(())\",\"()()()\"]) "
   ]
  }
 ],
 "metadata": {
  "kernelspec": {
   "display_name": "Python 3 (ipykernel)",
   "language": "python",
   "name": "python3"
  },
  "language_info": {
   "codemirror_mode": {
    "name": "ipython",
    "version": 3
   },
   "file_extension": ".py",
   "mimetype": "text/x-python",
   "name": "python",
   "nbconvert_exporter": "python",
   "pygments_lexer": "ipython3",
   "version": "3.10.13"
  }
 },
 "nbformat": 4,
 "nbformat_minor": 5
}
