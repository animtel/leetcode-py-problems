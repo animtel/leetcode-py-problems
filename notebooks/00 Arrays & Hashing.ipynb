{
 "cells": [
  {
   "cell_type": "code",
   "execution_count": 1,
   "id": "df9b9d75-b503-4e32-89bd-be05ab1682ae",
   "metadata": {},
   "outputs": [],
   "source": [
    "from typing import List"
   ]
  },
  {
   "cell_type": "markdown",
   "id": "8d6e8199-869d-405c-8b61-cf20e9e7cd21",
   "metadata": {
    "tags": []
   },
   "source": [
    "## 217. Contains Duplicate : <font color='green'>Easy</font>\n",
    "\n",
    "https://leetcode.com/problems/contains-duplicate/"
   ]
  },
  {
   "cell_type": "code",
   "execution_count": 10,
   "id": "10f5ec76-ab31-4c42-856e-f0fc86f4dd3b",
   "metadata": {},
   "outputs": [],
   "source": [
    "class Solution:\n",
    "    def containsDuplicate(self, nums: List[int]) -> bool:\n",
    "        return len(nums) != len(set(nums))\n",
    "    \n",
    "class Solution2:\n",
    "    def containsDuplicate(self, nums: List[int]) -> bool:\n",
    "        hashmap = {}\n",
    "        for i in nums:\n",
    "            val = hashmap.get(i)\n",
    "            if val != None:\n",
    "                return True\n",
    "            else: mapa[i] = i\n",
    "        return False\n",
    "    \n",
    "class Solution3:\n",
    "    def containsDuplicate(self, nums: List[int]) -> bool:\n",
    "        snums = sorted(nums)\n",
    "        prev_i = None\n",
    "        for i in snums:\n",
    "            if i == prev_i:\n",
    "                return True\n",
    "            prev_i = i\n",
    "        return False\n",
    "    \n",
    "class Solution4: # O(n) in memmory and speed. n - elements\n",
    "    def containsDuplicate(self, nums: List[int]) -> bool:\n",
    "        hashset = set()\n",
    "        for i in nums:\n",
    "            if i in hashset: return True\n",
    "            hashset.add(i)\n",
    "        return False"
   ]
  },
  {
   "cell_type": "code",
   "execution_count": 11,
   "id": "60e86c05-0f68-427e-9cd6-990be86a9c0b",
   "metadata": {},
   "outputs": [
    {
     "name": "stdout",
     "output_type": "stream",
     "text": [
      "True\n",
      "False\n"
     ]
    }
   ],
   "source": [
    "solution = Solution()\n",
    "\n",
    "nums = [1, 2, 3, 1]\n",
    "\n",
    "print(solution.containsDuplicate(nums))\n",
    "\n",
    "nums = [1, 2, 3, 4]\n",
    "\n",
    "print(solution.containsDuplicate(nums))"
   ]
  },
  {
   "cell_type": "code",
   "execution_count": 12,
   "id": "4a14937e-5fb0-4112-aec8-c34a96fc2db3",
   "metadata": {},
   "outputs": [
    {
     "ename": "NameError",
     "evalue": "name 'mapa' is not defined",
     "output_type": "error",
     "traceback": [
      "\u001b[0;31m---------------------------------------------------------------------------\u001b[0m",
      "\u001b[0;31mNameError\u001b[0m                                 Traceback (most recent call last)",
      "\u001b[1;32m/Users/danielkovalenko/work/leetcode-py-problems/notebooks/00 Arrays & Hashing.ipynb Cell 5\u001b[0m line \u001b[0;36m5\n\u001b[1;32m      <a href='vscode-notebook-cell:/Users/danielkovalenko/work/leetcode-py-problems/notebooks/00%20Arrays%20%26%20Hashing.ipynb#W4sZmlsZQ%3D%3D?line=0'>1</a>\u001b[0m solution \u001b[39m=\u001b[39m Solution2()\n\u001b[1;32m      <a href='vscode-notebook-cell:/Users/danielkovalenko/work/leetcode-py-problems/notebooks/00%20Arrays%20%26%20Hashing.ipynb#W4sZmlsZQ%3D%3D?line=2'>3</a>\u001b[0m nums \u001b[39m=\u001b[39m [\u001b[39m1\u001b[39m, \u001b[39m2\u001b[39m, \u001b[39m3\u001b[39m, \u001b[39m1\u001b[39m]\n\u001b[0;32m----> <a href='vscode-notebook-cell:/Users/danielkovalenko/work/leetcode-py-problems/notebooks/00%20Arrays%20%26%20Hashing.ipynb#W4sZmlsZQ%3D%3D?line=4'>5</a>\u001b[0m \u001b[39mprint\u001b[39m(solution\u001b[39m.\u001b[39;49mcontainsDuplicate(nums))\n\u001b[1;32m      <a href='vscode-notebook-cell:/Users/danielkovalenko/work/leetcode-py-problems/notebooks/00%20Arrays%20%26%20Hashing.ipynb#W4sZmlsZQ%3D%3D?line=6'>7</a>\u001b[0m nums \u001b[39m=\u001b[39m [\u001b[39m1\u001b[39m, \u001b[39m2\u001b[39m, \u001b[39m3\u001b[39m, \u001b[39m4\u001b[39m]\n\u001b[1;32m      <a href='vscode-notebook-cell:/Users/danielkovalenko/work/leetcode-py-problems/notebooks/00%20Arrays%20%26%20Hashing.ipynb#W4sZmlsZQ%3D%3D?line=8'>9</a>\u001b[0m \u001b[39mprint\u001b[39m(solution\u001b[39m.\u001b[39mcontainsDuplicate(nums))\n",
      "\u001b[1;32m/Users/danielkovalenko/work/leetcode-py-problems/notebooks/00 Arrays & Hashing.ipynb Cell 5\u001b[0m line \u001b[0;36m1\n\u001b[1;32m     <a href='vscode-notebook-cell:/Users/danielkovalenko/work/leetcode-py-problems/notebooks/00%20Arrays%20%26%20Hashing.ipynb#W4sZmlsZQ%3D%3D?line=9'>10</a>\u001b[0m     \u001b[39mif\u001b[39;00m val \u001b[39m!=\u001b[39m \u001b[39mNone\u001b[39;00m:\n\u001b[1;32m     <a href='vscode-notebook-cell:/Users/danielkovalenko/work/leetcode-py-problems/notebooks/00%20Arrays%20%26%20Hashing.ipynb#W4sZmlsZQ%3D%3D?line=10'>11</a>\u001b[0m         \u001b[39mreturn\u001b[39;00m \u001b[39mTrue\u001b[39;00m\n\u001b[0;32m---> <a href='vscode-notebook-cell:/Users/danielkovalenko/work/leetcode-py-problems/notebooks/00%20Arrays%20%26%20Hashing.ipynb#W4sZmlsZQ%3D%3D?line=11'>12</a>\u001b[0m     \u001b[39melse\u001b[39;00m: mapa[i] \u001b[39m=\u001b[39m i\n\u001b[1;32m     <a href='vscode-notebook-cell:/Users/danielkovalenko/work/leetcode-py-problems/notebooks/00%20Arrays%20%26%20Hashing.ipynb#W4sZmlsZQ%3D%3D?line=12'>13</a>\u001b[0m \u001b[39mreturn\u001b[39;00m \u001b[39mFalse\u001b[39;00m\n",
      "\u001b[0;31mNameError\u001b[0m: name 'mapa' is not defined"
     ]
    }
   ],
   "source": [
    "solution = Solution2()\n",
    "\n",
    "nums = [1, 2, 3, 1]\n",
    "\n",
    "print(solution.containsDuplicate(nums))\n",
    "\n",
    "nums = [1, 2, 3, 4]\n",
    "\n",
    "print(solution.containsDuplicate(nums))\n",
    "\n",
    "nums = [0,4,5,0,3,6]\n",
    "\n",
    "print(solution.containsDuplicate(nums))"
   ]
  },
  {
   "cell_type": "code",
   "execution_count": null,
   "id": "503948cb-f825-42cd-a8c6-63b99d1e8787",
   "metadata": {},
   "outputs": [
    {
     "name": "stdout",
     "output_type": "stream",
     "text": [
      "True\n",
      "False\n",
      "True\n"
     ]
    }
   ],
   "source": [
    "solution = Solution3()\n",
    "\n",
    "nums = [1, 2, 3, 1]\n",
    "\n",
    "print(solution.containsDuplicate(nums))\n",
    "\n",
    "nums = [1, 2, 3, 4]\n",
    "\n",
    "print(solution.containsDuplicate(nums))\n",
    "\n",
    "nums = [0,4,5,0,3,6]\n",
    "\n",
    "print(solution.containsDuplicate(nums))"
   ]
  },
  {
   "cell_type": "code",
   "execution_count": null,
   "id": "25d90801-5b02-4a7a-bff8-67279cff4ad5",
   "metadata": {},
   "outputs": [
    {
     "name": "stdout",
     "output_type": "stream",
     "text": [
      "True\n",
      "False\n",
      "True\n"
     ]
    }
   ],
   "source": [
    "solution = Solution4()\n",
    "\n",
    "nums = [1, 2, 3, 1]\n",
    "\n",
    "print(solution.containsDuplicate(nums))\n",
    "\n",
    "nums = [1, 2, 3, 4]\n",
    "\n",
    "print(solution.containsDuplicate(nums))\n",
    "\n",
    "nums = [0,4,5,0,3,6]\n",
    "\n",
    "print(solution.containsDuplicate(nums))"
   ]
  },
  {
   "cell_type": "markdown",
   "id": "220bfa52-b60e-407c-9610-daf776bbd13d",
   "metadata": {
    "jp-MarkdownHeadingCollapsed": true,
    "tags": []
   },
   "source": [
    "## 242. Valid Anagram : <font color='green'>Easy</font>\n",
    "\n",
    "https://leetcode.com/problems/valid-anagram/"
   ]
  },
  {
   "cell_type": "code",
   "execution_count": null,
   "id": "d32213a4-86d8-4b74-add4-76573537bd65",
   "metadata": {},
   "outputs": [
    {
     "name": "stdout",
     "output_type": "stream",
     "text": [
      "True\n",
      "True\n",
      "True\n",
      "True\n"
     ]
    }
   ],
   "source": [
    "class Solution:\n",
    "    def isAnagram(self, s: str, t: str) -> bool:\n",
    "        slen = len(s)\n",
    "        tlen = len(t)\n",
    "        if slen != tlen: return False\n",
    "    \n",
    "        s = sorted(s)\n",
    "        t = sorted(t)\n",
    "        \n",
    "        for i_s, i_t in zip(s, t):\n",
    "            if i_s != i_t: return False\n",
    "        \n",
    "        return True\n",
    "        \n",
    "class Solution2:\n",
    "    def isAnagram(self, s: str, t: str) -> bool:\n",
    "        slen, tlen = len(s), len(t)\n",
    "        if slen != tlen: return False\n",
    "    \n",
    "        s_hashmap, t_hashmap = {}, {}\n",
    "        \n",
    "        for s_char, t_char in zip(s, t):\n",
    "            s_hashmap[s_char] = 1 + s_hashmap.get(s_char, 0)\n",
    "            t_hashmap[t_char] = 1 + t_hashmap.get(t_char, 0)\n",
    "        \n",
    "        for k, v in s_hashmap.items():\n",
    "            t_h_v = t_hashmap.get(k)\n",
    "            if t_h_v is None or t_h_v != v: return False\n",
    "            \n",
    "        return True\n",
    "    \n",
    "class Solution3:\n",
    "    def isAnagram(self, s: str, t: str) -> bool:\n",
    "        return sorted(s) == sorted(t)\n",
    "    \n",
    "        \n",
    "# solution = Solution()\n",
    "solution = Solution3()\n",
    "\n",
    "s = 'qwer'\n",
    "t = 'rewq'\n",
    "\n",
    "print(solution.isAnagram(s, t) is True)\n",
    "\n",
    "s = 'anagram'\n",
    "t = 'nagaram'\n",
    "\n",
    "print(solution.isAnagram(s, t) is True)\n",
    "\n",
    "s = 'aacc'\n",
    "t = 'ccac'\n",
    "\n",
    "print(solution.isAnagram(s, t) is False)\n",
    "\n",
    "s = 'aa'\n",
    "t = 'bb'\n",
    "\n",
    "print(solution.isAnagram(s, t) is False)"
   ]
  },
  {
   "cell_type": "markdown",
   "id": "121e7abd-c65f-49b0-94a0-a7b53694fa70",
   "metadata": {
    "jp-MarkdownHeadingCollapsed": true,
    "tags": []
   },
   "source": [
    "## 1. Two Sum : <font color='green'>Easy</font>\n",
    "\n",
    "https://leetcode.com/problems/two-sum/"
   ]
  },
  {
   "cell_type": "code",
   "execution_count": null,
   "id": "a26d8f68-4ebd-4521-a708-72d9d47b2de7",
   "metadata": {},
   "outputs": [
    {
     "name": "stdout",
     "output_type": "stream",
     "text": [
      "True\n",
      "True\n",
      "True\n"
     ]
    }
   ],
   "source": [
    "class Solution:\n",
    "    def twoSum(self, nums: List[int], target: int) -> List[int]:\n",
    "        hashmap = {} # val : index\n",
    "        \n",
    "        for i in range(len(nums)):\n",
    "            complement = target - nums[i]\n",
    "            hash_v = hashmap.get(complement)\n",
    "            \n",
    "            if hash_v is None:\n",
    "                hashmap[nums[i]] = i\n",
    "            else:\n",
    "                return [hash_v, i]\n",
    "        \n",
    "        return [0, 1]\n",
    "                \n",
    "            \n",
    "\n",
    "solution = Solution()\n",
    "\n",
    "nums = [2,7,11,15]\n",
    "target = 9\n",
    "\n",
    "print(solution.twoSum(nums, target) == [0, 1])\n",
    "\n",
    "nums = [3,2,4]\n",
    "target = 6\n",
    "\n",
    "print(solution.twoSum(nums, target) == [1, 2])\n",
    "\n",
    "nums = [3,3]\n",
    "target = 6\n",
    "\n",
    "print(solution.twoSum(nums, target) == [0, 1])"
   ]
  },
  {
   "cell_type": "markdown",
   "id": "55025acf-c30f-4ff1-a2ff-116eb301fa7c",
   "metadata": {
    "jp-MarkdownHeadingCollapsed": true,
    "tags": []
   },
   "source": [
    "## 49. Group Anagrams : <font color='orange'>Medium</font>\n",
    "\n",
    "https://leetcode.com/problems/group-anagrams/"
   ]
  },
  {
   "cell_type": "code",
   "execution_count": null,
   "id": "f95a24d8-6985-4e6f-9ced-e3537613a8c8",
   "metadata": {},
   "outputs": [
    {
     "name": "stdout",
     "output_type": "stream",
     "text": [
      "True\n",
      "True\n",
      "True\n"
     ]
    }
   ],
   "source": [
    "class Solution:\n",
    "    def groupAnagrams(self, strs: List[str]) -> List[List[str]]:\n",
    "        hashmap = {}\n",
    "        \n",
    "        for i_str in strs:\n",
    "            s_i_str = \"\".join(sorted(i_str))\n",
    "            \n",
    "            if hashmap.get(s_i_str) is None:\n",
    "                hashmap[s_i_str] = [i_str]\n",
    "            else:\n",
    "                hashmap[s_i_str].append(i_str)\n",
    "        \n",
    "        return list(hashmap.values())\n",
    "                \n",
    "                    \n",
    "        \n",
    "solution = Solution()\n",
    "\n",
    "strs = [\"eat\",\"tea\",\"tan\",\"ate\",\"nat\",\"bat\"]\n",
    "\n",
    "print(solution.groupAnagrams(strs) == [['eat', 'tea', 'ate'], ['tan', 'nat'], ['bat']])\n",
    "\n",
    "strs = [\"\"]\n",
    "\n",
    "print(solution.groupAnagrams(strs) == [[\"\"]])\n",
    "\n",
    "strs = [\"a\"]\n",
    "\n",
    "print(solution.groupAnagrams(strs) == [[\"a\"]])"
   ]
  },
  {
   "cell_type": "markdown",
   "id": "bf7ba099-4645-4d5e-ba8d-460b984e97d4",
   "metadata": {
    "jp-MarkdownHeadingCollapsed": true,
    "tags": []
   },
   "source": [
    "## 347. Top K Frequent Elements : <font color='orange'>Medium</font>\n",
    "\n",
    "https://leetcode.com/problems/top-k-frequent-elements/"
   ]
  },
  {
   "cell_type": "code",
   "execution_count": null,
   "id": "ec47cb4b-8ec5-44ff-8bd8-ca95914a0e2d",
   "metadata": {},
   "outputs": [
    {
     "name": "stdout",
     "output_type": "stream",
     "text": [
      "True\n",
      "True\n",
      "True\n",
      "True\n",
      "True\n"
     ]
    }
   ],
   "source": [
    "class Solution:\n",
    "    def topKFrequent(self, nums: List[int], k: int) -> List[int]:\n",
    "        hashmap = {}\n",
    "        \n",
    "        for i in nums:\n",
    "            if i in hashmap:\n",
    "                hashmap[i] += 1\n",
    "            else:\n",
    "                hashmap[i] = 1\n",
    "        \n",
    "        sorted_dict = sorted(hashmap.items(), key=lambda item: item[1])\n",
    "        \n",
    "        result = []\n",
    "        counter = 0\n",
    "        for i in reversed(sorted_dict):\n",
    "            result.append(i[0])\n",
    "            if counter == k-1: break\n",
    "            counter += 1\n",
    "                \n",
    "        return result\n",
    "    \n",
    "class Solution2:\n",
    "    def topKFrequent(self, nums: List[int], k: int) -> List[int]:\n",
    "        hashmap = {}\n",
    "        freq_arr = [[] for i in nums]\n",
    "        \n",
    "        for i in nums:\n",
    "            if i in hashmap:\n",
    "                hashmap[i] += 1\n",
    "            else:\n",
    "                hashmap[i] = 1\n",
    "\n",
    "            freq_arr[len(nums) - 1 - hashmap[i]].append(i)\n",
    "                \n",
    "        result = set()\n",
    "        for el_arr in freq_arr:\n",
    "            for el in el_arr:\n",
    "                result.add(el)\n",
    "                if len(result) == k: \n",
    "                    return list(result)\n",
    "                    \n",
    "        \n",
    "solution = Solution2()\n",
    "\n",
    "nums = [1,1,1,2,2,3]\n",
    "k = 2\n",
    "\n",
    "print(solution.topKFrequent(nums, k) == [1, 2])\n",
    "\n",
    "nums = [3,0,1,0]\n",
    "k = 1\n",
    "\n",
    "print(solution.topKFrequent(nums, k) == [0])\n",
    "\n",
    "nums = [4,1,-1,2,-1,2,3]\n",
    "k = 2\n",
    "\n",
    "print(solution.topKFrequent(nums, k) == [2, -1])\n",
    "\n",
    "nums = [1]\n",
    "k = 1\n",
    "\n",
    "print(solution.topKFrequent(nums, k) == [1])\n",
    "\n",
    "nums = [5,3,1,1,1,3,73,1]\n",
    "k = 2\n",
    "\n",
    "print(solution.topKFrequent(nums, k) == [1, 3])"
   ]
  },
  {
   "cell_type": "markdown",
   "id": "34a346a7-7022-4804-a63a-e0dd6ab65c86",
   "metadata": {
    "jp-MarkdownHeadingCollapsed": true,
    "tags": []
   },
   "source": [
    "## 238. Product of Array Except Self  : <font color='orange'>Medium</font>\n",
    "\n",
    "https://leetcode.com/problems/product-of-array-except-self/"
   ]
  },
  {
   "cell_type": "code",
   "execution_count": null,
   "id": "f48037b5-d6f1-4440-8f13-d2e72f06bd33",
   "metadata": {},
   "outputs": [
    {
     "name": "stdout",
     "output_type": "stream",
     "text": [
      "True\n",
      "True\n"
     ]
    }
   ],
   "source": [
    "class Solution:\n",
    "    def productExceptSelf(self, nums: List[int]) -> List[int]:\n",
    "        result = [1]*len(nums)\n",
    "        prev_product = 1\n",
    "\n",
    "        for left_idx in range(0, len(nums)-1):\n",
    "            prev_product *= nums[left_idx]\n",
    "            result[left_idx+1] *= prev_product\n",
    "\n",
    "        prev_product = 1\n",
    "\n",
    "        for right_idx in range(len(nums)-1, 0, -1):\n",
    "            prev_product *= nums[right_idx]\n",
    "            result[right_idx-1] *= prev_product\n",
    "\n",
    "        return result\n",
    "    \n",
    "class Solution2: #GPT-4 solution...\n",
    "    def productExceptSelf(self, nums):\n",
    "        n = len(nums)\n",
    "        result = [1] * n\n",
    "        left_product = 1\n",
    "        right_product = 1\n",
    "\n",
    "        for i in range(n):\n",
    "            # Update the result for the left product\n",
    "            result[i] *= left_product\n",
    "            left_product *= nums[i]\n",
    "\n",
    "            # Update the result for the right product\n",
    "            result[~i] *= right_product\n",
    "            right_product *= nums[~i]\n",
    "\n",
    "        return result\n",
    "        \n",
    "solution = Solution()\n",
    "\n",
    "nums = [1,2,3,4]\n",
    "\n",
    "print(solution.productExceptSelf(nums) == [24,12,8,6])\n",
    "\n",
    "nums = [-1,1,0,-3,3]\n",
    "\n",
    "print(solution.productExceptSelf(nums) == [0,0,9,0,0])"
   ]
  },
  {
   "cell_type": "markdown",
   "id": "00d980a3",
   "metadata": {
    "jp-MarkdownHeadingCollapsed": true,
    "tags": []
   },
   "source": [
    "## 36. Valid Sudoku : <font color='orange'>Medium</font>\n",
    "\n",
    "https://leetcode.com/problems/valid-sudoku/"
   ]
  },
  {
   "cell_type": "markdown",
   "id": "799fa379",
   "metadata": {},
   "source": [
    "class Solution:\n",
    "    def isValidSudoku(self, board: List[List[str]]) -> bool:\n",
    "        "
   ]
  },
  {
   "cell_type": "code",
   "execution_count": 3,
   "id": "fd1fca34",
   "metadata": {},
   "outputs": [
    {
     "name": "stdout",
     "output_type": "stream",
     "text": [
      "True\n",
      "True\n"
     ]
    }
   ],
   "source": [
    "import numpy\n",
    "\n",
    "class Solution:\n",
    "    def containsDuplicate(self, nums: List[int]) -> bool:\n",
    "        hashset = set() # O(n) in memory\n",
    "        for i in nums: # O(n) in speed\n",
    "            if i in hashset and i != '.': return True\n",
    "            hashset.add(i)\n",
    "        return False\n",
    "    \n",
    "    def isValidSudoku(self, board: List[List[str]]) -> bool:\n",
    "        board = numpy.array(board)\n",
    "        #check rows\n",
    "        for id in range(9):\n",
    "            is_duplicates_in_row = self.containsDuplicate(board[id])\n",
    "            is_duplicates_in_col = self.containsDuplicate(board[:, id])\n",
    "            if is_duplicates_in_row or is_duplicates_in_col: return False\n",
    "\n",
    "        for i in [1, 4, 7]:\n",
    "            for j in [1, 4, 7]:\n",
    "                square_elements = [board[i-1, j-1], board[i-1, j], board[i-1, j+1], board[i, j-1], board[i, j], board[i, j+1], board[i+1, j-1], board[i+1, j], board[i+1, j+1]]\n",
    "                is_box_contains_dups = self.containsDuplicate(square_elements)\n",
    "                if is_box_contains_dups: return False\n",
    "\n",
    "            \n",
    "        return True        \n",
    "\n",
    "solution = Solution()\n",
    "\n",
    "board = [\n",
    "    [\"8\",\"3\",\".\",\".\",\"7\",\".\",\".\",\".\",\".\"],\n",
    "    [\"6\",\".\",\".\",\"1\",\"9\",\"5\",\".\",\".\",\".\"],\n",
    "    [\".\",\"9\",\"8\",\".\",\".\",\".\",\".\",\"6\",\".\"],\n",
    "    [\"8\",\".\",\".\",\".\",\"6\",\".\",\".\",\".\",\"3\"],\n",
    "    [\"4\",\".\",\".\",\"8\",\".\",\"3\",\".\",\".\",\"1\"],\n",
    "    [\"7\",\".\",\".\",\".\",\"2\",\".\",\".\",\".\",\"6\"],\n",
    "    [\".\",\"6\",\".\",\".\",\".\",\".\",\"2\",\"8\",\".\"],\n",
    "    [\".\",\".\",\".\",\"4\",\"1\",\"9\",\".\",\".\",\"5\"],\n",
    "    [\".\",\".\",\".\",\".\",\"8\",\".\",\".\",\"7\",\"9\"]\n",
    "]\n",
    "\n",
    "print(solution.isValidSudoku(board) == False)\n",
    "\n",
    "board = [\n",
    "    [\"5\",\"3\",\".\",\".\",\"7\",\".\",\".\",\".\",\".\"],\n",
    "    [\"6\",\".\",\".\",\"1\",\"9\",\"5\",\".\",\".\",\".\"],\n",
    "    [\".\",\"9\",\"8\",\".\",\".\",\".\",\".\",\"6\",\".\"],\n",
    "    [\"8\",\".\",\".\",\".\",\"6\",\".\",\".\",\".\",\"3\"],\n",
    "    [\"4\",\".\",\".\",\"8\",\".\",\"3\",\".\",\".\",\"1\"],\n",
    "    [\"7\",\".\",\".\",\".\",\"2\",\".\",\".\",\".\",\"6\"],\n",
    "    [\".\",\"6\",\".\",\".\",\".\",\".\",\"2\",\"8\",\".\"],\n",
    "    [\".\",\".\",\".\",\"4\",\"1\",\"9\",\".\",\".\",\"5\"],\n",
    "    [\".\",\".\",\".\",\".\",\"8\",\".\",\".\",\"7\",\"9\"]\n",
    "]\n",
    "\n",
    "print(solution.isValidSudoku(board) == True)\n"
   ]
  },
  {
   "cell_type": "markdown",
   "id": "2e8c023c-1384-4f75-aa61-bcf1fe346229",
   "metadata": {
    "jp-MarkdownHeadingCollapsed": true,
    "tags": []
   },
   "source": [
    "## 128. Longest Consecutive Sequence : <font color='orange'>Medium</font>\n",
    "\n",
    "https://leetcode.com/problems/longest-consecutive-sequence/"
   ]
  },
  {
   "cell_type": "code",
   "execution_count": 2,
   "id": "788146f1-a5da-445d-80b8-b72a2e7c661c",
   "metadata": {
    "tags": []
   },
   "outputs": [
    {
     "name": "stdout",
     "output_type": "stream",
     "text": [
      "True\n",
      "True\n",
      "True\n",
      "True\n"
     ]
    }
   ],
   "source": [
    "import numpy\n",
    "\n",
    "class Solution:\n",
    "    def longestConsecutive(self, nums: List[int]) -> int:\n",
    "        if len(nums) == 0: return 0\n",
    "    \n",
    "        nums_set = set(nums)\n",
    "\n",
    "        max_n = 0\n",
    "        for i in nums_set:\n",
    "            if (i-1) not in nums_set:\n",
    "                n = 1\n",
    "                while ( i + n ) in nums_set:\n",
    "                    n += 1\n",
    "                max_n = max(n, max_n)\n",
    "\n",
    "        return max_n\n",
    "\n",
    "solution = Solution()\n",
    "\n",
    "nums = [100,4,200,1,3,2]\n",
    "\n",
    "print(solution.longestConsecutive(nums) == 4)\n",
    "\n",
    "nums = [0,3,7,2,5,8,4,6,0,1]\n",
    "\n",
    "print(solution.longestConsecutive(nums) == 9)\n",
    "\n",
    "nums = []\n",
    "\n",
    "print(solution.longestConsecutive(nums) == 0)\n",
    "\n",
    "nums = [9,1,4,7,3,-1,0,5,8,-1,6]\n",
    "\n",
    "print(solution.longestConsecutive(nums) == 7)"
   ]
  }
 ],
 "metadata": {
  "kernelspec": {
   "display_name": "Python 3 (ipykernel)",
   "language": "python",
   "name": "python3"
  },
  "language_info": {
   "codemirror_mode": {
    "name": "ipython",
    "version": 3
   },
   "file_extension": ".py",
   "mimetype": "text/x-python",
   "name": "python",
   "nbconvert_exporter": "python",
   "pygments_lexer": "ipython3",
   "version": "3.10.13"
  }
 },
 "nbformat": 4,
 "nbformat_minor": 5
}
